{
 "cells": [
  {
   "cell_type": "markdown",
   "id": "4b10dbb8",
   "metadata": {},
   "source": [
    "# Clean argument"
   ]
  },
  {
   "cell_type": "code",
   "execution_count": 3,
   "id": "641c296f",
   "metadata": {},
   "outputs": [
    {
     "data": {
      "text/plain": [
       "0                                                    NaN\n",
       "1      Encontré formas de hacer negocios sostenibles ...\n",
       "2      aprendí sobre TBL, valor compartido y negocios...\n",
       "3                                                      .\n",
       "4      Hasta ahora aplique lo aprendido sobre la sost...\n",
       "                             ...                        \n",
       "313    Nos enfocabamos mucho en hacer negocios consci...\n",
       "314    Aprendí mucho sobre su importancia para el fut...\n",
       "315    Al principio pensaba que era solo un tema de c...\n",
       "316    Gracias a los modelos de Triple Bottom Line, C...\n",
       "317    Considero que es un tema recurrente, y de gran...\n",
       "Name: argument, Length: 318, dtype: object"
      ]
     },
     "execution_count": 3,
     "metadata": {},
     "output_type": "execute_result"
    }
   ],
   "source": [
    "import pandas as pd\n",
    "\n",
    "path = './../data/'\n",
    "dfenc = pd.read_excel(path + 'Eco_Intel2_clean.xlsx')\n",
    "dfenc['argument']"
   ]
  },
  {
   "cell_type": "code",
   "execution_count": 7,
   "id": "d4d9c125",
   "metadata": {},
   "outputs": [
    {
     "data": {
      "text/plain": [
       "argument_sentiment\n",
       "Neutral     315\n",
       "Positive      3\n",
       "Name: count, dtype: int64"
      ]
     },
     "execution_count": 7,
     "metadata": {},
     "output_type": "execute_result"
    }
   ],
   "source": [
    "from textblob import TextBlob\n",
    "\n",
    "def get_sentiment(text):\n",
    "    if pd.isna(text):\n",
    "        return 'Neutral'\n",
    "    \n",
    "    sentiment = TextBlob(text).sentiment.polarity\n",
    "    if sentiment > 0.1:\n",
    "        return 'Positive'\n",
    "    elif sentiment < -0.1:\n",
    "        return 'Negative'\n",
    "    else:\n",
    "        return 'Neutral'\n",
    "\n",
    "dfenc['argument_sentiment'] = dfenc['argument'].apply(get_sentiment)\n",
    "dfenc['argument_sentiment'].value_counts()"
   ]
  }
 ],
 "metadata": {
  "kernelspec": {
   "display_name": "base",
   "language": "python",
   "name": "python3"
  },
  "language_info": {
   "codemirror_mode": {
    "name": "ipython",
    "version": 3
   },
   "file_extension": ".py",
   "mimetype": "text/x-python",
   "name": "python",
   "nbconvert_exporter": "python",
   "pygments_lexer": "ipython3",
   "version": "3.12.3"
  }
 },
 "nbformat": 4,
 "nbformat_minor": 5
}
